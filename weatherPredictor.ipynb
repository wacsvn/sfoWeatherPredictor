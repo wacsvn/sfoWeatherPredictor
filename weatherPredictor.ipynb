{
 "cells": [
  {
   "cell_type": "code",
   "execution_count": 152,
   "id": "ad700b32-4856-4252-bbec-9a90095fed25",
   "metadata": {
    "tags": []
   },
   "outputs": [],
   "source": [
    "import pandas as pd"
   ]
  },
  {
   "cell_type": "code",
   "execution_count": 153,
   "id": "1cd36c38-f432-47eb-9b44-5a09efd1f24e",
   "metadata": {
    "tags": []
   },
   "outputs": [],
   "source": [
    "weather = pd.read_csv(\"sfoWeather.csv\", index_col=\"DATE\") #read csv - data from https://www.noaa.gov/"
   ]
  },
  {
   "cell_type": "code",
   "execution_count": 154,
   "id": "6e6032ef-8858-4c73-93ba-7ef4e04a257a",
   "metadata": {
    "tags": []
   },
   "outputs": [
    {
     "data": {
      "text/html": [
       "<div>\n",
       "<style scoped>\n",
       "    .dataframe tbody tr th:only-of-type {\n",
       "        vertical-align: middle;\n",
       "    }\n",
       "\n",
       "    .dataframe tbody tr th {\n",
       "        vertical-align: top;\n",
       "    }\n",
       "\n",
       "    .dataframe thead th {\n",
       "        text-align: right;\n",
       "    }\n",
       "</style>\n",
       "<table border=\"1\" class=\"dataframe\">\n",
       "  <thead>\n",
       "    <tr style=\"text-align: right;\">\n",
       "      <th></th>\n",
       "      <th>STATION</th>\n",
       "      <th>NAME</th>\n",
       "      <th>ACMH</th>\n",
       "      <th>ACSH</th>\n",
       "      <th>AWND</th>\n",
       "      <th>FMTM</th>\n",
       "      <th>FRGT</th>\n",
       "      <th>PGTM</th>\n",
       "      <th>PRCP</th>\n",
       "      <th>SNOW</th>\n",
       "      <th>...</th>\n",
       "      <th>WT10</th>\n",
       "      <th>WT11</th>\n",
       "      <th>WT13</th>\n",
       "      <th>WT14</th>\n",
       "      <th>WT16</th>\n",
       "      <th>WT18</th>\n",
       "      <th>WT21</th>\n",
       "      <th>WV01</th>\n",
       "      <th>WV03</th>\n",
       "      <th>WV20</th>\n",
       "    </tr>\n",
       "    <tr>\n",
       "      <th>DATE</th>\n",
       "      <th></th>\n",
       "      <th></th>\n",
       "      <th></th>\n",
       "      <th></th>\n",
       "      <th></th>\n",
       "      <th></th>\n",
       "      <th></th>\n",
       "      <th></th>\n",
       "      <th></th>\n",
       "      <th></th>\n",
       "      <th></th>\n",
       "      <th></th>\n",
       "      <th></th>\n",
       "      <th></th>\n",
       "      <th></th>\n",
       "      <th></th>\n",
       "      <th></th>\n",
       "      <th></th>\n",
       "      <th></th>\n",
       "      <th></th>\n",
       "      <th></th>\n",
       "    </tr>\n",
       "  </thead>\n",
       "  <tbody>\n",
       "    <tr>\n",
       "      <th>1960-01-01</th>\n",
       "      <td>USW00023234</td>\n",
       "      <td>SAN FRANCISCO INTERNATIONAL AIRPORT, CA US</td>\n",
       "      <td>NaN</td>\n",
       "      <td>NaN</td>\n",
       "      <td>NaN</td>\n",
       "      <td>NaN</td>\n",
       "      <td>NaN</td>\n",
       "      <td>442.0</td>\n",
       "      <td>0.0</td>\n",
       "      <td>0.0</td>\n",
       "      <td>...</td>\n",
       "      <td>NaN</td>\n",
       "      <td>NaN</td>\n",
       "      <td>NaN</td>\n",
       "      <td>NaN</td>\n",
       "      <td>NaN</td>\n",
       "      <td>NaN</td>\n",
       "      <td>NaN</td>\n",
       "      <td>NaN</td>\n",
       "      <td>NaN</td>\n",
       "      <td>NaN</td>\n",
       "    </tr>\n",
       "    <tr>\n",
       "      <th>1960-01-02</th>\n",
       "      <td>USW00023234</td>\n",
       "      <td>SAN FRANCISCO INTERNATIONAL AIRPORT, CA US</td>\n",
       "      <td>NaN</td>\n",
       "      <td>NaN</td>\n",
       "      <td>NaN</td>\n",
       "      <td>NaN</td>\n",
       "      <td>NaN</td>\n",
       "      <td>2218.0</td>\n",
       "      <td>0.0</td>\n",
       "      <td>0.0</td>\n",
       "      <td>...</td>\n",
       "      <td>NaN</td>\n",
       "      <td>NaN</td>\n",
       "      <td>NaN</td>\n",
       "      <td>NaN</td>\n",
       "      <td>1.0</td>\n",
       "      <td>NaN</td>\n",
       "      <td>NaN</td>\n",
       "      <td>NaN</td>\n",
       "      <td>NaN</td>\n",
       "      <td>NaN</td>\n",
       "    </tr>\n",
       "    <tr>\n",
       "      <th>1960-01-03</th>\n",
       "      <td>USW00023234</td>\n",
       "      <td>SAN FRANCISCO INTERNATIONAL AIRPORT, CA US</td>\n",
       "      <td>NaN</td>\n",
       "      <td>NaN</td>\n",
       "      <td>NaN</td>\n",
       "      <td>NaN</td>\n",
       "      <td>NaN</td>\n",
       "      <td>1430.0</td>\n",
       "      <td>0.0</td>\n",
       "      <td>0.0</td>\n",
       "      <td>...</td>\n",
       "      <td>NaN</td>\n",
       "      <td>NaN</td>\n",
       "      <td>NaN</td>\n",
       "      <td>NaN</td>\n",
       "      <td>1.0</td>\n",
       "      <td>NaN</td>\n",
       "      <td>NaN</td>\n",
       "      <td>NaN</td>\n",
       "      <td>NaN</td>\n",
       "      <td>NaN</td>\n",
       "    </tr>\n",
       "    <tr>\n",
       "      <th>1960-01-04</th>\n",
       "      <td>USW00023234</td>\n",
       "      <td>SAN FRANCISCO INTERNATIONAL AIRPORT, CA US</td>\n",
       "      <td>NaN</td>\n",
       "      <td>NaN</td>\n",
       "      <td>NaN</td>\n",
       "      <td>NaN</td>\n",
       "      <td>NaN</td>\n",
       "      <td>336.0</td>\n",
       "      <td>0.0</td>\n",
       "      <td>0.0</td>\n",
       "      <td>...</td>\n",
       "      <td>NaN</td>\n",
       "      <td>NaN</td>\n",
       "      <td>NaN</td>\n",
       "      <td>NaN</td>\n",
       "      <td>NaN</td>\n",
       "      <td>NaN</td>\n",
       "      <td>NaN</td>\n",
       "      <td>NaN</td>\n",
       "      <td>NaN</td>\n",
       "      <td>NaN</td>\n",
       "    </tr>\n",
       "    <tr>\n",
       "      <th>1960-01-05</th>\n",
       "      <td>USW00023234</td>\n",
       "      <td>SAN FRANCISCO INTERNATIONAL AIRPORT, CA US</td>\n",
       "      <td>NaN</td>\n",
       "      <td>NaN</td>\n",
       "      <td>NaN</td>\n",
       "      <td>NaN</td>\n",
       "      <td>NaN</td>\n",
       "      <td>1706.0</td>\n",
       "      <td>0.0</td>\n",
       "      <td>0.0</td>\n",
       "      <td>...</td>\n",
       "      <td>NaN</td>\n",
       "      <td>NaN</td>\n",
       "      <td>NaN</td>\n",
       "      <td>NaN</td>\n",
       "      <td>NaN</td>\n",
       "      <td>NaN</td>\n",
       "      <td>NaN</td>\n",
       "      <td>NaN</td>\n",
       "      <td>NaN</td>\n",
       "      <td>NaN</td>\n",
       "    </tr>\n",
       "    <tr>\n",
       "      <th>...</th>\n",
       "      <td>...</td>\n",
       "      <td>...</td>\n",
       "      <td>...</td>\n",
       "      <td>...</td>\n",
       "      <td>...</td>\n",
       "      <td>...</td>\n",
       "      <td>...</td>\n",
       "      <td>...</td>\n",
       "      <td>...</td>\n",
       "      <td>...</td>\n",
       "      <td>...</td>\n",
       "      <td>...</td>\n",
       "      <td>...</td>\n",
       "      <td>...</td>\n",
       "      <td>...</td>\n",
       "      <td>...</td>\n",
       "      <td>...</td>\n",
       "      <td>...</td>\n",
       "      <td>...</td>\n",
       "      <td>...</td>\n",
       "      <td>...</td>\n",
       "    </tr>\n",
       "    <tr>\n",
       "      <th>2023-08-29</th>\n",
       "      <td>USW00023234</td>\n",
       "      <td>SAN FRANCISCO INTERNATIONAL AIRPORT, CA US</td>\n",
       "      <td>NaN</td>\n",
       "      <td>NaN</td>\n",
       "      <td>14.76</td>\n",
       "      <td>NaN</td>\n",
       "      <td>NaN</td>\n",
       "      <td>NaN</td>\n",
       "      <td>0.0</td>\n",
       "      <td>NaN</td>\n",
       "      <td>...</td>\n",
       "      <td>NaN</td>\n",
       "      <td>NaN</td>\n",
       "      <td>NaN</td>\n",
       "      <td>NaN</td>\n",
       "      <td>NaN</td>\n",
       "      <td>NaN</td>\n",
       "      <td>NaN</td>\n",
       "      <td>NaN</td>\n",
       "      <td>NaN</td>\n",
       "      <td>NaN</td>\n",
       "    </tr>\n",
       "    <tr>\n",
       "      <th>2023-08-30</th>\n",
       "      <td>USW00023234</td>\n",
       "      <td>SAN FRANCISCO INTERNATIONAL AIRPORT, CA US</td>\n",
       "      <td>NaN</td>\n",
       "      <td>NaN</td>\n",
       "      <td>9.17</td>\n",
       "      <td>NaN</td>\n",
       "      <td>NaN</td>\n",
       "      <td>NaN</td>\n",
       "      <td>0.0</td>\n",
       "      <td>NaN</td>\n",
       "      <td>...</td>\n",
       "      <td>NaN</td>\n",
       "      <td>NaN</td>\n",
       "      <td>NaN</td>\n",
       "      <td>NaN</td>\n",
       "      <td>NaN</td>\n",
       "      <td>NaN</td>\n",
       "      <td>NaN</td>\n",
       "      <td>NaN</td>\n",
       "      <td>NaN</td>\n",
       "      <td>NaN</td>\n",
       "    </tr>\n",
       "    <tr>\n",
       "      <th>2023-08-31</th>\n",
       "      <td>USW00023234</td>\n",
       "      <td>SAN FRANCISCO INTERNATIONAL AIRPORT, CA US</td>\n",
       "      <td>NaN</td>\n",
       "      <td>NaN</td>\n",
       "      <td>11.86</td>\n",
       "      <td>NaN</td>\n",
       "      <td>NaN</td>\n",
       "      <td>NaN</td>\n",
       "      <td>0.0</td>\n",
       "      <td>NaN</td>\n",
       "      <td>...</td>\n",
       "      <td>NaN</td>\n",
       "      <td>NaN</td>\n",
       "      <td>NaN</td>\n",
       "      <td>NaN</td>\n",
       "      <td>NaN</td>\n",
       "      <td>NaN</td>\n",
       "      <td>NaN</td>\n",
       "      <td>NaN</td>\n",
       "      <td>NaN</td>\n",
       "      <td>NaN</td>\n",
       "    </tr>\n",
       "    <tr>\n",
       "      <th>2023-09-01</th>\n",
       "      <td>USW00023234</td>\n",
       "      <td>SAN FRANCISCO INTERNATIONAL AIRPORT, CA US</td>\n",
       "      <td>NaN</td>\n",
       "      <td>NaN</td>\n",
       "      <td>NaN</td>\n",
       "      <td>NaN</td>\n",
       "      <td>NaN</td>\n",
       "      <td>NaN</td>\n",
       "      <td>0.0</td>\n",
       "      <td>NaN</td>\n",
       "      <td>...</td>\n",
       "      <td>NaN</td>\n",
       "      <td>NaN</td>\n",
       "      <td>NaN</td>\n",
       "      <td>NaN</td>\n",
       "      <td>NaN</td>\n",
       "      <td>NaN</td>\n",
       "      <td>NaN</td>\n",
       "      <td>NaN</td>\n",
       "      <td>NaN</td>\n",
       "      <td>NaN</td>\n",
       "    </tr>\n",
       "    <tr>\n",
       "      <th>2023-09-02</th>\n",
       "      <td>USW00023234</td>\n",
       "      <td>SAN FRANCISCO INTERNATIONAL AIRPORT, CA US</td>\n",
       "      <td>NaN</td>\n",
       "      <td>NaN</td>\n",
       "      <td>NaN</td>\n",
       "      <td>NaN</td>\n",
       "      <td>NaN</td>\n",
       "      <td>NaN</td>\n",
       "      <td>NaN</td>\n",
       "      <td>NaN</td>\n",
       "      <td>...</td>\n",
       "      <td>NaN</td>\n",
       "      <td>NaN</td>\n",
       "      <td>NaN</td>\n",
       "      <td>NaN</td>\n",
       "      <td>NaN</td>\n",
       "      <td>NaN</td>\n",
       "      <td>NaN</td>\n",
       "      <td>NaN</td>\n",
       "      <td>NaN</td>\n",
       "      <td>NaN</td>\n",
       "    </tr>\n",
       "  </tbody>\n",
       "</table>\n",
       "<p>23256 rows × 44 columns</p>\n",
       "</div>"
      ],
      "text/plain": [
       "                STATION                                        NAME  ACMH  \\\n",
       "DATE                                                                        \n",
       "1960-01-01  USW00023234  SAN FRANCISCO INTERNATIONAL AIRPORT, CA US   NaN   \n",
       "1960-01-02  USW00023234  SAN FRANCISCO INTERNATIONAL AIRPORT, CA US   NaN   \n",
       "1960-01-03  USW00023234  SAN FRANCISCO INTERNATIONAL AIRPORT, CA US   NaN   \n",
       "1960-01-04  USW00023234  SAN FRANCISCO INTERNATIONAL AIRPORT, CA US   NaN   \n",
       "1960-01-05  USW00023234  SAN FRANCISCO INTERNATIONAL AIRPORT, CA US   NaN   \n",
       "...                 ...                                         ...   ...   \n",
       "2023-08-29  USW00023234  SAN FRANCISCO INTERNATIONAL AIRPORT, CA US   NaN   \n",
       "2023-08-30  USW00023234  SAN FRANCISCO INTERNATIONAL AIRPORT, CA US   NaN   \n",
       "2023-08-31  USW00023234  SAN FRANCISCO INTERNATIONAL AIRPORT, CA US   NaN   \n",
       "2023-09-01  USW00023234  SAN FRANCISCO INTERNATIONAL AIRPORT, CA US   NaN   \n",
       "2023-09-02  USW00023234  SAN FRANCISCO INTERNATIONAL AIRPORT, CA US   NaN   \n",
       "\n",
       "            ACSH   AWND  FMTM  FRGT    PGTM  PRCP  SNOW  ...  WT10  WT11  \\\n",
       "DATE                                                     ...               \n",
       "1960-01-01   NaN    NaN   NaN   NaN   442.0   0.0   0.0  ...   NaN   NaN   \n",
       "1960-01-02   NaN    NaN   NaN   NaN  2218.0   0.0   0.0  ...   NaN   NaN   \n",
       "1960-01-03   NaN    NaN   NaN   NaN  1430.0   0.0   0.0  ...   NaN   NaN   \n",
       "1960-01-04   NaN    NaN   NaN   NaN   336.0   0.0   0.0  ...   NaN   NaN   \n",
       "1960-01-05   NaN    NaN   NaN   NaN  1706.0   0.0   0.0  ...   NaN   NaN   \n",
       "...          ...    ...   ...   ...     ...   ...   ...  ...   ...   ...   \n",
       "2023-08-29   NaN  14.76   NaN   NaN     NaN   0.0   NaN  ...   NaN   NaN   \n",
       "2023-08-30   NaN   9.17   NaN   NaN     NaN   0.0   NaN  ...   NaN   NaN   \n",
       "2023-08-31   NaN  11.86   NaN   NaN     NaN   0.0   NaN  ...   NaN   NaN   \n",
       "2023-09-01   NaN    NaN   NaN   NaN     NaN   0.0   NaN  ...   NaN   NaN   \n",
       "2023-09-02   NaN    NaN   NaN   NaN     NaN   NaN   NaN  ...   NaN   NaN   \n",
       "\n",
       "            WT13  WT14  WT16  WT18  WT21  WV01  WV03  WV20  \n",
       "DATE                                                        \n",
       "1960-01-01   NaN   NaN   NaN   NaN   NaN   NaN   NaN   NaN  \n",
       "1960-01-02   NaN   NaN   1.0   NaN   NaN   NaN   NaN   NaN  \n",
       "1960-01-03   NaN   NaN   1.0   NaN   NaN   NaN   NaN   NaN  \n",
       "1960-01-04   NaN   NaN   NaN   NaN   NaN   NaN   NaN   NaN  \n",
       "1960-01-05   NaN   NaN   NaN   NaN   NaN   NaN   NaN   NaN  \n",
       "...          ...   ...   ...   ...   ...   ...   ...   ...  \n",
       "2023-08-29   NaN   NaN   NaN   NaN   NaN   NaN   NaN   NaN  \n",
       "2023-08-30   NaN   NaN   NaN   NaN   NaN   NaN   NaN   NaN  \n",
       "2023-08-31   NaN   NaN   NaN   NaN   NaN   NaN   NaN   NaN  \n",
       "2023-09-01   NaN   NaN   NaN   NaN   NaN   NaN   NaN   NaN  \n",
       "2023-09-02   NaN   NaN   NaN   NaN   NaN   NaN   NaN   NaN  \n",
       "\n",
       "[23256 rows x 44 columns]"
      ]
     },
     "execution_count": 154,
     "metadata": {},
     "output_type": "execute_result"
    }
   ],
   "source": [
    "weather"
   ]
  },
  {
   "cell_type": "code",
   "execution_count": 155,
   "id": "3834af51-de18-41e4-854a-d4d0231b5617",
   "metadata": {
    "tags": []
   },
   "outputs": [
    {
     "data": {
      "text/plain": [
       "STATION    0.000000\n",
       "NAME       0.000000\n",
       "ACMH       0.501849\n",
       "ACSH       0.501634\n",
       "AWND       0.377064\n",
       "FMTM       0.562178\n",
       "FRGT       0.999871\n",
       "PGTM       0.216804\n",
       "PRCP       0.000043\n",
       "SNOW       0.418860\n",
       "SNWD       0.421483\n",
       "TAVG       0.721405\n",
       "TMAX       0.000903\n",
       "TMIN       0.000903\n",
       "TSUN       0.948099\n",
       "WDF1       0.580194\n",
       "WDF2       0.573357\n",
       "WDF5       0.580237\n",
       "WDFG       0.430255\n",
       "WDFM       0.930685\n",
       "WESD       0.748710\n",
       "WSF1       0.575335\n",
       "WSF2       0.573357\n",
       "WSF5       0.580237\n",
       "WSFG       0.425611\n",
       "WSFM       0.930685\n",
       "WT01       0.708419\n",
       "WT02       0.980779\n",
       "WT03       0.991056\n",
       "WT04       0.998366\n",
       "WT05       0.989336\n",
       "WT07       0.997205\n",
       "WT08       0.789603\n",
       "WT09       0.999226\n",
       "WT10       0.999957\n",
       "WT11       0.999742\n",
       "WT13       0.932921\n",
       "WT14       0.967578\n",
       "WT16       0.757181\n",
       "WT18       0.999484\n",
       "WT21       0.996517\n",
       "WV01       0.998194\n",
       "WV03       0.999957\n",
       "WV20       0.999957\n",
       "dtype: float64"
      ]
     },
     "execution_count": 155,
     "metadata": {},
     "output_type": "execute_result"
    }
   ],
   "source": [
    "weather.apply(pd.isnull).sum()/weather.shape[0] #percentage of null values in each column"
   ]
  },
  {
   "cell_type": "code",
   "execution_count": 156,
   "id": "c9bd5a8e-ed57-4f12-b283-8cff19494737",
   "metadata": {
    "tags": []
   },
   "outputs": [],
   "source": [
    "# condense dataset into only relevant columns, as enumerated by the dataset documentation "
   ]
  },
  {
   "cell_type": "code",
   "execution_count": 157,
   "id": "92576f6a-8f43-42ca-97cb-6e2ab4f6eca1",
   "metadata": {
    "tags": []
   },
   "outputs": [],
   "source": [
    "core = weather[[\"PRCP\", \"SNOW\", \"SNWD\", \"TMAX\", \"TMIN\"]].copy()"
   ]
  },
  {
   "cell_type": "code",
   "execution_count": 158,
   "id": "28779642-4dae-423c-b7f6-6975a54b056d",
   "metadata": {
    "tags": []
   },
   "outputs": [],
   "source": [
    "core.columns = [\"precip\", \"snow\", \"snowDepth\", \"tempMax\", \"tempMin\"] "
   ]
  },
  {
   "cell_type": "code",
   "execution_count": 159,
   "id": "5fdbdad8-74f2-41f0-a7c1-ab4b2ae89c7e",
   "metadata": {
    "tags": []
   },
   "outputs": [
    {
     "data": {
      "text/html": [
       "<div>\n",
       "<style scoped>\n",
       "    .dataframe tbody tr th:only-of-type {\n",
       "        vertical-align: middle;\n",
       "    }\n",
       "\n",
       "    .dataframe tbody tr th {\n",
       "        vertical-align: top;\n",
       "    }\n",
       "\n",
       "    .dataframe thead th {\n",
       "        text-align: right;\n",
       "    }\n",
       "</style>\n",
       "<table border=\"1\" class=\"dataframe\">\n",
       "  <thead>\n",
       "    <tr style=\"text-align: right;\">\n",
       "      <th></th>\n",
       "      <th>precip</th>\n",
       "      <th>snow</th>\n",
       "      <th>snowDepth</th>\n",
       "      <th>tempMax</th>\n",
       "      <th>tempMin</th>\n",
       "    </tr>\n",
       "    <tr>\n",
       "      <th>DATE</th>\n",
       "      <th></th>\n",
       "      <th></th>\n",
       "      <th></th>\n",
       "      <th></th>\n",
       "      <th></th>\n",
       "    </tr>\n",
       "  </thead>\n",
       "  <tbody>\n",
       "    <tr>\n",
       "      <th>1960-01-01</th>\n",
       "      <td>0.0</td>\n",
       "      <td>0.0</td>\n",
       "      <td>0.0</td>\n",
       "      <td>48.0</td>\n",
       "      <td>34.0</td>\n",
       "    </tr>\n",
       "    <tr>\n",
       "      <th>1960-01-02</th>\n",
       "      <td>0.0</td>\n",
       "      <td>0.0</td>\n",
       "      <td>0.0</td>\n",
       "      <td>47.0</td>\n",
       "      <td>29.0</td>\n",
       "    </tr>\n",
       "    <tr>\n",
       "      <th>1960-01-03</th>\n",
       "      <td>0.0</td>\n",
       "      <td>0.0</td>\n",
       "      <td>0.0</td>\n",
       "      <td>53.0</td>\n",
       "      <td>38.0</td>\n",
       "    </tr>\n",
       "    <tr>\n",
       "      <th>1960-01-04</th>\n",
       "      <td>0.0</td>\n",
       "      <td>0.0</td>\n",
       "      <td>0.0</td>\n",
       "      <td>56.0</td>\n",
       "      <td>33.0</td>\n",
       "    </tr>\n",
       "    <tr>\n",
       "      <th>1960-01-05</th>\n",
       "      <td>0.0</td>\n",
       "      <td>0.0</td>\n",
       "      <td>0.0</td>\n",
       "      <td>52.0</td>\n",
       "      <td>35.0</td>\n",
       "    </tr>\n",
       "    <tr>\n",
       "      <th>...</th>\n",
       "      <td>...</td>\n",
       "      <td>...</td>\n",
       "      <td>...</td>\n",
       "      <td>...</td>\n",
       "      <td>...</td>\n",
       "    </tr>\n",
       "    <tr>\n",
       "      <th>2023-08-29</th>\n",
       "      <td>0.0</td>\n",
       "      <td>NaN</td>\n",
       "      <td>NaN</td>\n",
       "      <td>76.0</td>\n",
       "      <td>58.0</td>\n",
       "    </tr>\n",
       "    <tr>\n",
       "      <th>2023-08-30</th>\n",
       "      <td>0.0</td>\n",
       "      <td>NaN</td>\n",
       "      <td>NaN</td>\n",
       "      <td>91.0</td>\n",
       "      <td>61.0</td>\n",
       "    </tr>\n",
       "    <tr>\n",
       "      <th>2023-08-31</th>\n",
       "      <td>0.0</td>\n",
       "      <td>NaN</td>\n",
       "      <td>NaN</td>\n",
       "      <td>76.0</td>\n",
       "      <td>59.0</td>\n",
       "    </tr>\n",
       "    <tr>\n",
       "      <th>2023-09-01</th>\n",
       "      <td>0.0</td>\n",
       "      <td>NaN</td>\n",
       "      <td>NaN</td>\n",
       "      <td>71.0</td>\n",
       "      <td>60.0</td>\n",
       "    </tr>\n",
       "    <tr>\n",
       "      <th>2023-09-02</th>\n",
       "      <td>NaN</td>\n",
       "      <td>NaN</td>\n",
       "      <td>NaN</td>\n",
       "      <td>NaN</td>\n",
       "      <td>NaN</td>\n",
       "    </tr>\n",
       "  </tbody>\n",
       "</table>\n",
       "<p>23256 rows × 5 columns</p>\n",
       "</div>"
      ],
      "text/plain": [
       "            precip  snow  snowDepth  tempMax  tempMin\n",
       "DATE                                                 \n",
       "1960-01-01     0.0   0.0        0.0     48.0     34.0\n",
       "1960-01-02     0.0   0.0        0.0     47.0     29.0\n",
       "1960-01-03     0.0   0.0        0.0     53.0     38.0\n",
       "1960-01-04     0.0   0.0        0.0     56.0     33.0\n",
       "1960-01-05     0.0   0.0        0.0     52.0     35.0\n",
       "...            ...   ...        ...      ...      ...\n",
       "2023-08-29     0.0   NaN        NaN     76.0     58.0\n",
       "2023-08-30     0.0   NaN        NaN     91.0     61.0\n",
       "2023-08-31     0.0   NaN        NaN     76.0     59.0\n",
       "2023-09-01     0.0   NaN        NaN     71.0     60.0\n",
       "2023-09-02     NaN   NaN        NaN      NaN      NaN\n",
       "\n",
       "[23256 rows x 5 columns]"
      ]
     },
     "execution_count": 159,
     "metadata": {},
     "output_type": "execute_result"
    }
   ],
   "source": [
    "core"
   ]
  },
  {
   "cell_type": "code",
   "execution_count": 160,
   "id": "3877096a-4e14-4ea5-a297-8e4df6428d47",
   "metadata": {
    "tags": []
   },
   "outputs": [
    {
     "data": {
      "text/plain": [
       "0.0    13514\n",
       "1.5        1\n",
       "Name: snow, dtype: int64"
      ]
     },
     "execution_count": 160,
     "metadata": {},
     "output_type": "execute_result"
    }
   ],
   "source": [
    "core[\"snow\"].value_counts()"
   ]
  },
  {
   "cell_type": "code",
   "execution_count": 161,
   "id": "2a930efd-c9e7-4e9f-a5b7-e3b6ec0a19fd",
   "metadata": {
    "tags": []
   },
   "outputs": [],
   "source": [
    "del core[\"snow\"] # since there are a trivial number of snowfall days in the dataset, can disregard snow col"
   ]
  },
  {
   "cell_type": "code",
   "execution_count": 162,
   "id": "6c410972-4a1b-436e-9748-7c89a0886f9b",
   "metadata": {
    "tags": []
   },
   "outputs": [],
   "source": [
    "del core[\"snowDepth\"] #same logic"
   ]
  },
  {
   "cell_type": "code",
   "execution_count": 163,
   "id": "9d131491-b1f0-4871-a398-d5875c46818f",
   "metadata": {
    "tags": []
   },
   "outputs": [
    {
     "data": {
      "text/html": [
       "<div>\n",
       "<style scoped>\n",
       "    .dataframe tbody tr th:only-of-type {\n",
       "        vertical-align: middle;\n",
       "    }\n",
       "\n",
       "    .dataframe tbody tr th {\n",
       "        vertical-align: top;\n",
       "    }\n",
       "\n",
       "    .dataframe thead th {\n",
       "        text-align: right;\n",
       "    }\n",
       "</style>\n",
       "<table border=\"1\" class=\"dataframe\">\n",
       "  <thead>\n",
       "    <tr style=\"text-align: right;\">\n",
       "      <th></th>\n",
       "      <th>precip</th>\n",
       "      <th>tempMax</th>\n",
       "      <th>tempMin</th>\n",
       "    </tr>\n",
       "    <tr>\n",
       "      <th>DATE</th>\n",
       "      <th></th>\n",
       "      <th></th>\n",
       "      <th></th>\n",
       "    </tr>\n",
       "  </thead>\n",
       "  <tbody>\n",
       "    <tr>\n",
       "      <th>2023-09-02</th>\n",
       "      <td>NaN</td>\n",
       "      <td>NaN</td>\n",
       "      <td>NaN</td>\n",
       "    </tr>\n",
       "  </tbody>\n",
       "</table>\n",
       "</div>"
      ],
      "text/plain": [
       "            precip  tempMax  tempMin\n",
       "DATE                                \n",
       "2023-09-02     NaN      NaN      NaN"
      ]
     },
     "execution_count": 163,
     "metadata": {},
     "output_type": "execute_result"
    }
   ],
   "source": [
    "core[pd.isnull(core[\"precip\"])]"
   ]
  },
  {
   "cell_type": "code",
   "execution_count": 164,
   "id": "ee63f992-8995-46fc-a5e4-211f418c5167",
   "metadata": {
    "tags": []
   },
   "outputs": [
    {
     "data": {
      "text/plain": [
       "precip    NaN\n",
       "tempMax   NaN\n",
       "tempMin   NaN\n",
       "Name: 2023-09-02, dtype: float64"
      ]
     },
     "execution_count": 164,
     "metadata": {},
     "output_type": "execute_result"
    }
   ],
   "source": [
    "core.loc[\"2023-09-02\"]"
   ]
  },
  {
   "cell_type": "code",
   "execution_count": 165,
   "id": "99d5b5e2-2ad0-4ead-84a2-8643fbab2733",
   "metadata": {
    "tags": []
   },
   "outputs": [
    {
     "data": {
      "text/plain": [
       "0.00    19236\n",
       "0.01      429\n",
       "0.02      255\n",
       "0.03      186\n",
       "0.04      177\n",
       "        ...  \n",
       "1.47        1\n",
       "1.80        1\n",
       "2.34        1\n",
       "1.56        1\n",
       "3.67        1\n",
       "Name: precip, Length: 213, dtype: int64"
      ]
     },
     "execution_count": 165,
     "metadata": {},
     "output_type": "execute_result"
    }
   ],
   "source": [
    "core[\"precip\"].value_counts()"
   ]
  },
  {
   "cell_type": "code",
   "execution_count": 166,
   "id": "c8d5aa40-e8bc-4f74-8988-46f25c579fb7",
   "metadata": {
    "tags": []
   },
   "outputs": [],
   "source": [
    "core[\"precip\"] = core[\"precip\"].fillna(0)"
   ]
  },
  {
   "cell_type": "code",
   "execution_count": 167,
   "id": "f74e6e21-46c7-44ec-94b9-ae030877e208",
   "metadata": {
    "tags": []
   },
   "outputs": [
    {
     "data": {
      "text/html": [
       "<div>\n",
       "<style scoped>\n",
       "    .dataframe tbody tr th:only-of-type {\n",
       "        vertical-align: middle;\n",
       "    }\n",
       "\n",
       "    .dataframe tbody tr th {\n",
       "        vertical-align: top;\n",
       "    }\n",
       "\n",
       "    .dataframe thead th {\n",
       "        text-align: right;\n",
       "    }\n",
       "</style>\n",
       "<table border=\"1\" class=\"dataframe\">\n",
       "  <thead>\n",
       "    <tr style=\"text-align: right;\">\n",
       "      <th></th>\n",
       "      <th>precip</th>\n",
       "      <th>tempMax</th>\n",
       "      <th>tempMin</th>\n",
       "    </tr>\n",
       "    <tr>\n",
       "      <th>DATE</th>\n",
       "      <th></th>\n",
       "      <th></th>\n",
       "      <th></th>\n",
       "    </tr>\n",
       "  </thead>\n",
       "  <tbody>\n",
       "    <tr>\n",
       "      <th>2018-06-22</th>\n",
       "      <td>0.0</td>\n",
       "      <td>NaN</td>\n",
       "      <td>NaN</td>\n",
       "    </tr>\n",
       "    <tr>\n",
       "      <th>2018-06-23</th>\n",
       "      <td>0.0</td>\n",
       "      <td>NaN</td>\n",
       "      <td>NaN</td>\n",
       "    </tr>\n",
       "    <tr>\n",
       "      <th>2018-06-24</th>\n",
       "      <td>0.0</td>\n",
       "      <td>NaN</td>\n",
       "      <td>NaN</td>\n",
       "    </tr>\n",
       "    <tr>\n",
       "      <th>2018-06-25</th>\n",
       "      <td>0.0</td>\n",
       "      <td>NaN</td>\n",
       "      <td>NaN</td>\n",
       "    </tr>\n",
       "    <tr>\n",
       "      <th>2018-06-26</th>\n",
       "      <td>0.0</td>\n",
       "      <td>NaN</td>\n",
       "      <td>NaN</td>\n",
       "    </tr>\n",
       "    <tr>\n",
       "      <th>2018-06-27</th>\n",
       "      <td>0.0</td>\n",
       "      <td>NaN</td>\n",
       "      <td>NaN</td>\n",
       "    </tr>\n",
       "    <tr>\n",
       "      <th>2018-06-28</th>\n",
       "      <td>0.0</td>\n",
       "      <td>NaN</td>\n",
       "      <td>NaN</td>\n",
       "    </tr>\n",
       "    <tr>\n",
       "      <th>2018-06-29</th>\n",
       "      <td>0.0</td>\n",
       "      <td>NaN</td>\n",
       "      <td>NaN</td>\n",
       "    </tr>\n",
       "    <tr>\n",
       "      <th>2018-06-30</th>\n",
       "      <td>0.0</td>\n",
       "      <td>NaN</td>\n",
       "      <td>NaN</td>\n",
       "    </tr>\n",
       "    <tr>\n",
       "      <th>2018-07-01</th>\n",
       "      <td>0.0</td>\n",
       "      <td>NaN</td>\n",
       "      <td>NaN</td>\n",
       "    </tr>\n",
       "    <tr>\n",
       "      <th>2018-07-02</th>\n",
       "      <td>0.0</td>\n",
       "      <td>NaN</td>\n",
       "      <td>NaN</td>\n",
       "    </tr>\n",
       "    <tr>\n",
       "      <th>2018-07-03</th>\n",
       "      <td>0.0</td>\n",
       "      <td>NaN</td>\n",
       "      <td>NaN</td>\n",
       "    </tr>\n",
       "    <tr>\n",
       "      <th>2018-07-04</th>\n",
       "      <td>0.0</td>\n",
       "      <td>NaN</td>\n",
       "      <td>NaN</td>\n",
       "    </tr>\n",
       "    <tr>\n",
       "      <th>2018-07-05</th>\n",
       "      <td>0.0</td>\n",
       "      <td>NaN</td>\n",
       "      <td>NaN</td>\n",
       "    </tr>\n",
       "    <tr>\n",
       "      <th>2018-07-06</th>\n",
       "      <td>0.0</td>\n",
       "      <td>NaN</td>\n",
       "      <td>NaN</td>\n",
       "    </tr>\n",
       "    <tr>\n",
       "      <th>2018-07-07</th>\n",
       "      <td>0.0</td>\n",
       "      <td>NaN</td>\n",
       "      <td>NaN</td>\n",
       "    </tr>\n",
       "    <tr>\n",
       "      <th>2018-07-08</th>\n",
       "      <td>0.0</td>\n",
       "      <td>NaN</td>\n",
       "      <td>NaN</td>\n",
       "    </tr>\n",
       "    <tr>\n",
       "      <th>2018-07-09</th>\n",
       "      <td>0.0</td>\n",
       "      <td>NaN</td>\n",
       "      <td>NaN</td>\n",
       "    </tr>\n",
       "    <tr>\n",
       "      <th>2018-07-10</th>\n",
       "      <td>0.0</td>\n",
       "      <td>NaN</td>\n",
       "      <td>NaN</td>\n",
       "    </tr>\n",
       "    <tr>\n",
       "      <th>2018-07-11</th>\n",
       "      <td>0.0</td>\n",
       "      <td>NaN</td>\n",
       "      <td>NaN</td>\n",
       "    </tr>\n",
       "    <tr>\n",
       "      <th>2023-09-02</th>\n",
       "      <td>0.0</td>\n",
       "      <td>NaN</td>\n",
       "      <td>NaN</td>\n",
       "    </tr>\n",
       "  </tbody>\n",
       "</table>\n",
       "</div>"
      ],
      "text/plain": [
       "            precip  tempMax  tempMin\n",
       "DATE                                \n",
       "2018-06-22     0.0      NaN      NaN\n",
       "2018-06-23     0.0      NaN      NaN\n",
       "2018-06-24     0.0      NaN      NaN\n",
       "2018-06-25     0.0      NaN      NaN\n",
       "2018-06-26     0.0      NaN      NaN\n",
       "2018-06-27     0.0      NaN      NaN\n",
       "2018-06-28     0.0      NaN      NaN\n",
       "2018-06-29     0.0      NaN      NaN\n",
       "2018-06-30     0.0      NaN      NaN\n",
       "2018-07-01     0.0      NaN      NaN\n",
       "2018-07-02     0.0      NaN      NaN\n",
       "2018-07-03     0.0      NaN      NaN\n",
       "2018-07-04     0.0      NaN      NaN\n",
       "2018-07-05     0.0      NaN      NaN\n",
       "2018-07-06     0.0      NaN      NaN\n",
       "2018-07-07     0.0      NaN      NaN\n",
       "2018-07-08     0.0      NaN      NaN\n",
       "2018-07-09     0.0      NaN      NaN\n",
       "2018-07-10     0.0      NaN      NaN\n",
       "2018-07-11     0.0      NaN      NaN\n",
       "2023-09-02     0.0      NaN      NaN"
      ]
     },
     "execution_count": 167,
     "metadata": {},
     "output_type": "execute_result"
    }
   ],
   "source": [
    "core[pd.isnull(core[\"tempMin\"])]"
   ]
  },
  {
   "cell_type": "code",
   "execution_count": 168,
   "id": "4315f97b-f46e-46c1-add2-192a13402b38",
   "metadata": {
    "tags": []
   },
   "outputs": [],
   "source": [
    "core = core.fillna(method=\"ffill\") #forward fill NAs to take care of missing data in minimum temperature column"
   ]
  },
  {
   "cell_type": "code",
   "execution_count": 169,
   "id": "484ae09e-5958-4c6a-bf21-e8b774763979",
   "metadata": {
    "tags": []
   },
   "outputs": [
    {
     "data": {
      "text/plain": [
       "precip     float64\n",
       "tempMax    float64\n",
       "tempMin    float64\n",
       "dtype: object"
      ]
     },
     "execution_count": 169,
     "metadata": {},
     "output_type": "execute_result"
    }
   ],
   "source": [
    "core.dtypes #ensure that data types are numerical before using them as predictors"
   ]
  },
  {
   "cell_type": "code",
   "execution_count": 170,
   "id": "5475f287-06c1-403c-8196-a4c127d158e3",
   "metadata": {
    "tags": []
   },
   "outputs": [],
   "source": [
    "core.index = pd.to_datetime(core.index) #convert indices to datetime for easier filtering"
   ]
  },
  {
   "cell_type": "code",
   "execution_count": 171,
   "id": "4873ae37-3e0f-42df-81a8-4cc5a275705f",
   "metadata": {
    "tags": []
   },
   "outputs": [
    {
     "data": {
      "text/plain": [
       "DatetimeIndex(['1960-01-01', '1960-01-02', '1960-01-03', '1960-01-04',\n",
       "               '1960-01-05', '1960-01-06', '1960-01-07', '1960-01-08',\n",
       "               '1960-01-09', '1960-01-10',\n",
       "               ...\n",
       "               '2023-08-24', '2023-08-25', '2023-08-26', '2023-08-27',\n",
       "               '2023-08-28', '2023-08-29', '2023-08-30', '2023-08-31',\n",
       "               '2023-09-01', '2023-09-02'],\n",
       "              dtype='datetime64[ns]', name='DATE', length=23256, freq=None)"
      ]
     },
     "execution_count": 171,
     "metadata": {},
     "output_type": "execute_result"
    }
   ],
   "source": [
    "core.index"
   ]
  },
  {
   "cell_type": "code",
   "execution_count": 172,
   "id": "b417f727-c993-4c22-80c7-1556b6bda944",
   "metadata": {
    "tags": []
   },
   "outputs": [
    {
     "data": {
      "text/plain": [
       "Int64Index([1960, 1960, 1960, 1960, 1960, 1960, 1960, 1960, 1960, 1960,\n",
       "            ...\n",
       "            2023, 2023, 2023, 2023, 2023, 2023, 2023, 2023, 2023, 2023],\n",
       "           dtype='int64', name='DATE', length=23256)"
      ]
     },
     "execution_count": 172,
     "metadata": {},
     "output_type": "execute_result"
    }
   ],
   "source": [
    "core.index.year"
   ]
  },
  {
   "cell_type": "code",
   "execution_count": 173,
   "id": "c4d79379-486c-4588-8dae-14ad432ced0d",
   "metadata": {
    "tags": []
   },
   "outputs": [
    {
     "data": {
      "text/plain": [
       "<Axes: xlabel='DATE'>"
      ]
     },
     "execution_count": 173,
     "metadata": {},
     "output_type": "execute_result"
    },
    {
     "data": {
      "image/png": "[encoded data removed]",
      "text/plain": [
       "<Figure size 640x480 with 1 Axes>"
      ]
     },
     "metadata": {},
     "output_type": "display_data"
    }
   ],
   "source": [
    "core[[\"tempMax\", \"tempMin\"]].plot() #quick plot to identify gaps"
   ]
  },
  {
   "cell_type": "code",
   "execution_count": 174,
   "id": "67062f68-d1e4-49b7-952c-cd88de8670e2",
   "metadata": {
    "tags": []
   },
   "outputs": [
    {
     "data": {
      "text/plain": [
       "1960    366\n",
       "1961    365\n",
       "1962    365\n",
       "1963    365\n",
       "1964    366\n",
       "       ... \n",
       "2019    365\n",
       "2020    366\n",
       "2021    365\n",
       "2022    365\n",
       "2023    245\n",
       "Name: DATE, Length: 64, dtype: int64"
      ]
     },
     "execution_count": 174,
     "metadata": {},
     "output_type": "execute_result"
    }
   ],
   "source": [
    "core.index.year.value_counts().sort_index() #count observations per year to identify missing days"
   ]
  },
  {
   "cell_type": "code",
   "execution_count": 175,
   "id": "e679f52b-da64-416b-afe6-b01cc636e78a",
   "metadata": {
    "tags": []
   },
   "outputs": [
    {
     "data": {
      "text/plain": [
       "<Axes: xlabel='DATE'>"
      ]
     },
     "execution_count": 175,
     "metadata": {},
     "output_type": "execute_result"
    },
    {
     "data": {
      "image/png": "[encoded data removed]",
      "text/plain": [
       "<Figure size 640x480 with 1 Axes>"
      ]
     },
     "metadata": {},
     "output_type": "display_data"
    }
   ],
   "source": [
    "core[\"precip\"].plot() #identify outliers in precipitation column"
   ]
  },
  {
   "cell_type": "code",
   "execution_count": 176,
   "id": "615a1d7a-4b02-44e2-8f0a-89f121cde859",
   "metadata": {
    "tags": []
   },
   "outputs": [
    {
     "data": {
      "text/plain": [
       "<Axes: xlabel='DATE'>"
      ]
     },
     "execution_count": 176,
     "metadata": {},
     "output_type": "execute_result"
    },
    {
     "data": {
      "image/png": "[encoded data removed]",
      "text/plain": [
       "<Figure size 640x480 with 1 Axes>"
      ]
     },
     "metadata": {},
     "output_type": "display_data"
    }
   ],
   "source": [
    "core.groupby(core.index.year).apply(lambda x: x[\"precip\"].sum()).plot() #display total precipitation per year in table format"
   ]
  },
  {
   "cell_type": "code",
   "execution_count": 177,
   "id": "6c7c8e42-18af-4573-97b0-52f1b623f645",
   "metadata": {
    "tags": []
   },
   "outputs": [],
   "source": [
    "# creating prediction model for \"tomorrow's\" (target) weather\n",
    "core[\"target\"] = core.shift(-1)[\"tempMax\"]"
   ]
  },
  {
   "cell_type": "code",
   "execution_count": 178,
   "id": "612c0665-ffee-41ad-97d7-4973e99720ec",
   "metadata": {
    "tags": []
   },
   "outputs": [
    {
     "data": {
      "text/html": [
       "<div>\n",
       "<style scoped>\n",
       "    .dataframe tbody tr th:only-of-type {\n",
       "        vertical-align: middle;\n",
       "    }\n",
       "\n",
       "    .dataframe tbody tr th {\n",
       "        vertical-align: top;\n",
       "    }\n",
       "\n",
       "    .dataframe thead th {\n",
       "        text-align: right;\n",
       "    }\n",
       "</style>\n",
       "<table border=\"1\" class=\"dataframe\">\n",
       "  <thead>\n",
       "    <tr style=\"text-align: right;\">\n",
       "      <th></th>\n",
       "      <th>precip</th>\n",
       "      <th>tempMax</th>\n",
       "      <th>tempMin</th>\n",
       "      <th>target</th>\n",
       "    </tr>\n",
       "    <tr>\n",
       "      <th>DATE</th>\n",
       "      <th></th>\n",
       "      <th></th>\n",
       "      <th></th>\n",
       "      <th></th>\n",
       "    </tr>\n",
       "  </thead>\n",
       "  <tbody>\n",
       "    <tr>\n",
       "      <th>1960-01-01</th>\n",
       "      <td>0.0</td>\n",
       "      <td>48.0</td>\n",
       "      <td>34.0</td>\n",
       "      <td>47.0</td>\n",
       "    </tr>\n",
       "    <tr>\n",
       "      <th>1960-01-02</th>\n",
       "      <td>0.0</td>\n",
       "      <td>47.0</td>\n",
       "      <td>29.0</td>\n",
       "      <td>53.0</td>\n",
       "    </tr>\n",
       "    <tr>\n",
       "      <th>1960-01-03</th>\n",
       "      <td>0.0</td>\n",
       "      <td>53.0</td>\n",
       "      <td>38.0</td>\n",
       "      <td>56.0</td>\n",
       "    </tr>\n",
       "    <tr>\n",
       "      <th>1960-01-04</th>\n",
       "      <td>0.0</td>\n",
       "      <td>56.0</td>\n",
       "      <td>33.0</td>\n",
       "      <td>52.0</td>\n",
       "    </tr>\n",
       "    <tr>\n",
       "      <th>1960-01-05</th>\n",
       "      <td>0.0</td>\n",
       "      <td>52.0</td>\n",
       "      <td>35.0</td>\n",
       "      <td>52.0</td>\n",
       "    </tr>\n",
       "    <tr>\n",
       "      <th>...</th>\n",
       "      <td>...</td>\n",
       "      <td>...</td>\n",
       "      <td>...</td>\n",
       "      <td>...</td>\n",
       "    </tr>\n",
       "    <tr>\n",
       "      <th>2023-08-29</th>\n",
       "      <td>0.0</td>\n",
       "      <td>76.0</td>\n",
       "      <td>58.0</td>\n",
       "      <td>91.0</td>\n",
       "    </tr>\n",
       "    <tr>\n",
       "      <th>2023-08-30</th>\n",
       "      <td>0.0</td>\n",
       "      <td>91.0</td>\n",
       "      <td>61.0</td>\n",
       "      <td>76.0</td>\n",
       "    </tr>\n",
       "    <tr>\n",
       "      <th>2023-08-31</th>\n",
       "      <td>0.0</td>\n",
       "      <td>76.0</td>\n",
       "      <td>59.0</td>\n",
       "      <td>71.0</td>\n",
       "    </tr>\n",
       "    <tr>\n",
       "      <th>2023-09-01</th>\n",
       "      <td>0.0</td>\n",
       "      <td>71.0</td>\n",
       "      <td>60.0</td>\n",
       "      <td>71.0</td>\n",
       "    </tr>\n",
       "    <tr>\n",
       "      <th>2023-09-02</th>\n",
       "      <td>0.0</td>\n",
       "      <td>71.0</td>\n",
       "      <td>60.0</td>\n",
       "      <td>NaN</td>\n",
       "    </tr>\n",
       "  </tbody>\n",
       "</table>\n",
       "<p>23256 rows × 4 columns</p>\n",
       "</div>"
      ],
      "text/plain": [
       "            precip  tempMax  tempMin  target\n",
       "DATE                                        \n",
       "1960-01-01     0.0     48.0     34.0    47.0\n",
       "1960-01-02     0.0     47.0     29.0    53.0\n",
       "1960-01-03     0.0     53.0     38.0    56.0\n",
       "1960-01-04     0.0     56.0     33.0    52.0\n",
       "1960-01-05     0.0     52.0     35.0    52.0\n",
       "...            ...      ...      ...     ...\n",
       "2023-08-29     0.0     76.0     58.0    91.0\n",
       "2023-08-30     0.0     91.0     61.0    76.0\n",
       "2023-08-31     0.0     76.0     59.0    71.0\n",
       "2023-09-01     0.0     71.0     60.0    71.0\n",
       "2023-09-02     0.0     71.0     60.0     NaN\n",
       "\n",
       "[23256 rows x 4 columns]"
      ]
     },
     "execution_count": 178,
     "metadata": {},
     "output_type": "execute_result"
    }
   ],
   "source": [
    "core"
   ]
  },
  {
   "cell_type": "code",
   "execution_count": 179,
   "id": "a7c2c6b5-c1f1-46fd-860d-503891ea2e9c",
   "metadata": {
    "tags": []
   },
   "outputs": [],
   "source": [
    "#import ridge regression model\n",
    "from sklearn.linear_model import Ridge\n",
    "\n",
    "regr = Ridge(alpha=.1)"
   ]
  },
  {
   "cell_type": "code",
   "execution_count": 180,
   "id": "7337502c-c50b-4364-94bc-0a202e5f655d",
   "metadata": {
    "tags": []
   },
   "outputs": [],
   "source": [
    "#declare list of predictors\n",
    "predictors = [\"precip\", \"tempMax\", \"tempMin\"]"
   ]
  },
  {
   "cell_type": "code",
   "execution_count": 181,
   "id": "33a6a261-cccd-41e5-8b34-c8a987db1332",
   "metadata": {
    "tags": []
   },
   "outputs": [],
   "source": [
    "train = core.loc[:\"2020-12-31\"]"
   ]
  },
  {
   "cell_type": "code",
   "execution_count": 182,
   "id": "d2eb0755-3a7f-4edb-b149-bd32f24e7b50",
   "metadata": {
    "tags": []
   },
   "outputs": [],
   "source": [
    "test = core.loc[\"2022-01-01\":]"
   ]
  },
  {
   "cell_type": "code",
   "execution_count": 183,
   "id": "1d83a977-00ed-4af1-ae39-f9b8ff4b2545",
   "metadata": {
    "tags": []
   },
   "outputs": [],
   "source": [
    "test = test.dropna()"
   ]
  },
  {
   "cell_type": "code",
   "execution_count": 184,
   "id": "0a0565de-5f4d-4ae1-aa08-00e1dec07536",
   "metadata": {
    "tags": []
   },
   "outputs": [
    {
     "data": {
      "text/html": [
       "<style>#sk-container-id-8 {color: black;background-color: white;}#sk-container-id-8 pre{padding: 0;}#sk-container-id-8 div.sk-toggleable {background-color: white;}#sk-container-id-8 label.sk-toggleable__label {cursor: pointer;display: block;width: 100%;margin-bottom: 0;padding: 0.3em;box-sizing: border-box;text-align: center;}#sk-container-id-8 label.sk-toggleable__label-arrow:before {content: \"▸\";float: left;margin-right: 0.25em;color: #696969;}#sk-container-id-8 label.sk-toggleable__label-arrow:hover:before {color: black;}#sk-container-id-8 div.sk-estimator:hover label.sk-toggleable__label-arrow:before {color: black;}#sk-container-id-8 div.sk-toggleable__content {max-height: 0;max-width: 0;overflow: hidden;text-align: left;background-color: #f0f8ff;}#sk-container-id-8 div.sk-toggleable__content pre {margin: 0.2em;color: black;border-radius: 0.25em;background-color: #f0f8ff;}#sk-container-id-8 input.sk-toggleable__control:checked~div.sk-toggleable__content {max-height: 200px;max-width: 100%;overflow: auto;}#sk-container-id-8 input.sk-toggleable__control:checked~label.sk-toggleable__label-arrow:before {content: \"▾\";}#sk-container-id-8 div.sk-estimator input.sk-toggleable__control:checked~label.sk-toggleable__label {background-color: #d4ebff;}#sk-container-id-8 div.sk-label input.sk-toggleable__control:checked~label.sk-toggleable__label {background-color: #d4ebff;}#sk-container-id-8 input.sk-hidden--visually {border: 0;clip: rect(1px 1px 1px 1px);clip: rect(1px, 1px, 1px, 1px);height: 1px;margin: -1px;overflow: hidden;padding: 0;position: absolute;width: 1px;}#sk-container-id-8 div.sk-estimator {font-family: monospace;background-color: #f0f8ff;border: 1px dotted black;border-radius: 0.25em;box-sizing: border-box;margin-bottom: 0.5em;}#sk-container-id-8 div.sk-estimator:hover {background-color: #d4ebff;}#sk-container-id-8 div.sk-parallel-item::after {content: \"\";width: 100%;border-bottom: 1px solid gray;flex-grow: 1;}#sk-container-id-8 div.sk-label:hover label.sk-toggleable__label {background-color: #d4ebff;}#sk-container-id-8 div.sk-serial::before {content: \"\";position: absolute;border-left: 1px solid gray;box-sizing: border-box;top: 0;bottom: 0;left: 50%;z-index: 0;}#sk-container-id-8 div.sk-serial {display: flex;flex-direction: column;align-items: center;background-color: white;padding-right: 0.2em;padding-left: 0.2em;position: relative;}#sk-container-id-8 div.sk-item {position: relative;z-index: 1;}#sk-container-id-8 div.sk-parallel {display: flex;align-items: stretch;justify-content: center;background-color: white;position: relative;}#sk-container-id-8 div.sk-item::before, #sk-container-id-8 div.sk-parallel-item::before {content: \"\";position: absolute;border-left: 1px solid gray;box-sizing: border-box;top: 0;bottom: 0;left: 50%;z-index: -1;}#sk-container-id-8 div.sk-parallel-item {display: flex;flex-direction: column;z-index: 1;position: relative;background-color: white;}#sk-container-id-8 div.sk-parallel-item:first-child::after {align-self: flex-end;width: 50%;}#sk-container-id-8 div.sk-parallel-item:last-child::after {align-self: flex-start;width: 50%;}#sk-container-id-8 div.sk-parallel-item:only-child::after {width: 0;}#sk-container-id-8 div.sk-dashed-wrapped {border: 1px dashed gray;margin: 0 0.4em 0.5em 0.4em;box-sizing: border-box;padding-bottom: 0.4em;background-color: white;}#sk-container-id-8 div.sk-label label {font-family: monospace;font-weight: bold;display: inline-block;line-height: 1.2em;}#sk-container-id-8 div.sk-label-container {text-align: center;}#sk-container-id-8 div.sk-container {/* jupyter's `normalize.less` sets `[hidden] { display: none; }` but bootstrap.min.css set `[hidden] { display: none !important; }` so we also need the `!important` here to be able to override the default hidden behavior on the sphinx rendered scikit-learn.org. See: https://github.com/scikit-learn/scikit-learn/issues/21755 */display: inline-block !important;position: relative;}#sk-container-id-8 div.sk-text-repr-fallback {display: none;}</style><div id=\"sk-container-id-8\" class=\"sk-top-container\"><div class=\"sk-text-repr-fallback\"><pre>Ridge(alpha=0.1)</pre><b>In a Jupyter environment, please rerun this cell to show the HTML representation or trust the notebook. <br />On GitHub, the HTML representation is unable to render, please try loading this page with nbviewer.org.</b></div><div class=\"sk-container\" hidden><div class=\"sk-item\"><div class=\"sk-estimator sk-toggleable\"><input class=\"sk-toggleable__control sk-hidden--visually\" id=\"sk-estimator-id-8\" type=\"checkbox\" checked><label for=\"sk-estimator-id-8\" class=\"sk-toggleable__label sk-toggleable__label-arrow\">Ridge</label><div class=\"sk-toggleable__content\"><pre>Ridge(alpha=0.1)</pre></div></div></div></div></div>"
      ],
      "text/plain": [
       "Ridge(alpha=0.1)"
      ]
     },
     "execution_count": 184,
     "metadata": {},
     "output_type": "execute_result"
    }
   ],
   "source": [
    "# fit model to data\n",
    "regr.fit(train[predictors], train[\"target\"])"
   ]
  },
  {
   "cell_type": "code",
   "execution_count": 185,
   "id": "3b9efbcf-b664-4b1f-88fe-f93ced199a67",
   "metadata": {
    "tags": []
   },
   "outputs": [],
   "source": [
    "predictions = regr.predict(test[predictors])"
   ]
  },
  {
   "cell_type": "code",
   "execution_count": 186,
   "id": "9670f8f5-fcc2-4133-aeb6-4936eb79f109",
   "metadata": {
    "tags": []
   },
   "outputs": [],
   "source": [
    "from sklearn.metrics import mean_absolute_error"
   ]
  },
  {
   "cell_type": "code",
   "execution_count": 187,
   "id": "32776f67-4aaf-42c7-8a09-43371653413d",
   "metadata": {
    "tags": []
   },
   "outputs": [
    {
     "data": {
      "text/plain": [
       "3.4163933157429742"
      ]
     },
     "execution_count": 187,
     "metadata": {},
     "output_type": "execute_result"
    }
   ],
   "source": [
    "mean_absolute_error(test[\"target\"], predictions)"
   ]
  },
  {
   "cell_type": "code",
   "execution_count": 188,
   "id": "d4940ba2-25a4-4263-9bcc-8666bd60c6b7",
   "metadata": {
    "tags": []
   },
   "outputs": [],
   "source": [
    "compare = pd.concat([test[\"target\"], pd.Series(predictions, index=test.index)], axis=1) #see side by side the target temperature and the test result temp\n",
    "compare.columns = [\"target\", \"prediction\"]"
   ]
  },
  {
   "cell_type": "code",
   "execution_count": 189,
   "id": "ba79d446-bf48-4379-889a-e04145f3d1b6",
   "metadata": {
    "tags": []
   },
   "outputs": [
    {
     "data": {
      "text/html": [
       "<div>\n",
       "<style scoped>\n",
       "    .dataframe tbody tr th:only-of-type {\n",
       "        vertical-align: middle;\n",
       "    }\n",
       "\n",
       "    .dataframe tbody tr th {\n",
       "        vertical-align: top;\n",
       "    }\n",
       "\n",
       "    .dataframe thead th {\n",
       "        text-align: right;\n",
       "    }\n",
       "</style>\n",
       "<table border=\"1\" class=\"dataframe\">\n",
       "  <thead>\n",
       "    <tr style=\"text-align: right;\">\n",
       "      <th></th>\n",
       "      <th>target</th>\n",
       "      <th>prediction</th>\n",
       "    </tr>\n",
       "    <tr>\n",
       "      <th>DATE</th>\n",
       "      <th></th>\n",
       "      <th></th>\n",
       "    </tr>\n",
       "  </thead>\n",
       "  <tbody>\n",
       "    <tr>\n",
       "      <th>2022-01-01</th>\n",
       "      <td>53.0</td>\n",
       "      <td>53.712058</td>\n",
       "    </tr>\n",
       "    <tr>\n",
       "      <th>2022-01-02</th>\n",
       "      <td>55.0</td>\n",
       "      <td>53.404236</td>\n",
       "    </tr>\n",
       "    <tr>\n",
       "      <th>2022-01-03</th>\n",
       "      <td>59.0</td>\n",
       "      <td>57.037830</td>\n",
       "    </tr>\n",
       "    <tr>\n",
       "      <th>2022-01-04</th>\n",
       "      <td>58.0</td>\n",
       "      <td>61.099949</td>\n",
       "    </tr>\n",
       "    <tr>\n",
       "      <th>2022-01-05</th>\n",
       "      <td>55.0</td>\n",
       "      <td>60.814949</td>\n",
       "    </tr>\n",
       "    <tr>\n",
       "      <th>...</th>\n",
       "      <td>...</td>\n",
       "      <td>...</td>\n",
       "    </tr>\n",
       "    <tr>\n",
       "      <th>2023-08-28</th>\n",
       "      <td>76.0</td>\n",
       "      <td>73.789445</td>\n",
       "    </tr>\n",
       "    <tr>\n",
       "      <th>2023-08-29</th>\n",
       "      <td>91.0</td>\n",
       "      <td>74.914045</td>\n",
       "    </tr>\n",
       "    <tr>\n",
       "      <th>2023-08-30</th>\n",
       "      <td>76.0</td>\n",
       "      <td>85.958908</td>\n",
       "    </tr>\n",
       "    <tr>\n",
       "      <th>2023-08-31</th>\n",
       "      <td>71.0</td>\n",
       "      <td>75.162651</td>\n",
       "    </tr>\n",
       "    <tr>\n",
       "      <th>2023-09-01</th>\n",
       "      <td>71.0</td>\n",
       "      <td>71.978242</td>\n",
       "    </tr>\n",
       "  </tbody>\n",
       "</table>\n",
       "<p>609 rows × 2 columns</p>\n",
       "</div>"
      ],
      "text/plain": [
       "            target  prediction\n",
       "DATE                          \n",
       "2022-01-01    53.0   53.712058\n",
       "2022-01-02    55.0   53.404236\n",
       "2022-01-03    59.0   57.037830\n",
       "2022-01-04    58.0   61.099949\n",
       "2022-01-05    55.0   60.814949\n",
       "...            ...         ...\n",
       "2023-08-28    76.0   73.789445\n",
       "2023-08-29    91.0   74.914045\n",
       "2023-08-30    76.0   85.958908\n",
       "2023-08-31    71.0   75.162651\n",
       "2023-09-01    71.0   71.978242\n",
       "\n",
       "[609 rows x 2 columns]"
      ]
     },
     "execution_count": 189,
     "metadata": {},
     "output_type": "execute_result"
    }
   ],
   "source": [
    "compare"
   ]
  },
  {
   "cell_type": "code",
   "execution_count": 190,
   "id": "f52eb090-bec7-4053-b125-be842ba00a7d",
   "metadata": {
    "tags": []
   },
   "outputs": [
    {
     "data": {
      "text/plain": [
       "<Axes: xlabel='DATE'>"
      ]
     },
     "execution_count": 190,
     "metadata": {},
     "output_type": "execute_result"
    },
    {
     "data": {
      "image/png": "[encoded data removed]",
      "text/plain": [
       "<Figure size 640x480 with 1 Axes>"
      ]
     },
     "metadata": {},
     "output_type": "display_data"
    }
   ],
   "source": [
    "compare.plot() # visualize inaccuracies. appears that predictions are more conservative as the real word data"
   ]
  },
  {
   "cell_type": "code",
   "execution_count": 191,
   "id": "6ede897f-54ff-430c-90f2-2b617a51d62d",
   "metadata": {
    "tags": []
   },
   "outputs": [
    {
     "data": {
      "text/plain": [
       "array([-2.67735231,  0.68660299,  0.24860607])"
      ]
     },
     "execution_count": 191,
     "metadata": {},
     "output_type": "execute_result"
    }
   ],
   "source": [
    "regr.coef_ #relationships between the temp prediction and precipitation, yesterday's temp min, and max"
   ]
  },
  {
   "cell_type": "code",
   "execution_count": 192,
   "id": "eb3f7904-4504-4558-bd85-6584d685238a",
   "metadata": {
    "tags": []
   },
   "outputs": [],
   "source": [
    "# wrap code into a function\n",
    "def predict(predictors, core, regr):\n",
    "    train = core.loc[:\"2020-12-31\"]\n",
    "    test = core.loc[\"2022-01-01\":]\n",
    "    regr.fit(train[predictors], train[\"target\"])\n",
    "    predictions = regr.predict(test[predictors])\n",
    "    mae = mean_absolute_error(test[\"target\"], predictions)\n",
    "    compare = pd.concat([test[\"target\"], pd.Series(predictions, index=test.index)], axis=1) #see side by side the target temperature and the test result temp\n",
    "    compare.columns = [\"target\", \"prediction\"]\n",
    "    return mae, compare"
   ]
  },
  {
   "cell_type": "code",
   "execution_count": 193,
   "id": "844d1425-062d-42d0-8c32-e0add82e18f1",
   "metadata": {
    "tags": []
   },
   "outputs": [],
   "source": [
    "# improve prediction by adding rolling means to prediction method\n",
    "core[\"monthMax\"] = core[\"tempMax\"].rolling(30).mean()"
   ]
  },
  {
   "cell_type": "code",
   "execution_count": 194,
   "id": "3770e0c5-688d-40e1-8030-ac606ef2b078",
   "metadata": {
    "tags": []
   },
   "outputs": [
    {
     "data": {
      "text/html": [
       "<div>\n",
       "<style scoped>\n",
       "    .dataframe tbody tr th:only-of-type {\n",
       "        vertical-align: middle;\n",
       "    }\n",
       "\n",
       "    .dataframe tbody tr th {\n",
       "        vertical-align: top;\n",
       "    }\n",
       "\n",
       "    .dataframe thead th {\n",
       "        text-align: right;\n",
       "    }\n",
       "</style>\n",
       "<table border=\"1\" class=\"dataframe\">\n",
       "  <thead>\n",
       "    <tr style=\"text-align: right;\">\n",
       "      <th></th>\n",
       "      <th>precip</th>\n",
       "      <th>tempMax</th>\n",
       "      <th>tempMin</th>\n",
       "      <th>target</th>\n",
       "      <th>monthMax</th>\n",
       "    </tr>\n",
       "    <tr>\n",
       "      <th>DATE</th>\n",
       "      <th></th>\n",
       "      <th></th>\n",
       "      <th></th>\n",
       "      <th></th>\n",
       "      <th></th>\n",
       "    </tr>\n",
       "  </thead>\n",
       "  <tbody>\n",
       "    <tr>\n",
       "      <th>1960-01-01</th>\n",
       "      <td>0.0</td>\n",
       "      <td>48.0</td>\n",
       "      <td>34.0</td>\n",
       "      <td>47.0</td>\n",
       "      <td>NaN</td>\n",
       "    </tr>\n",
       "    <tr>\n",
       "      <th>1960-01-02</th>\n",
       "      <td>0.0</td>\n",
       "      <td>47.0</td>\n",
       "      <td>29.0</td>\n",
       "      <td>53.0</td>\n",
       "      <td>NaN</td>\n",
       "    </tr>\n",
       "    <tr>\n",
       "      <th>1960-01-03</th>\n",
       "      <td>0.0</td>\n",
       "      <td>53.0</td>\n",
       "      <td>38.0</td>\n",
       "      <td>56.0</td>\n",
       "      <td>NaN</td>\n",
       "    </tr>\n",
       "    <tr>\n",
       "      <th>1960-01-04</th>\n",
       "      <td>0.0</td>\n",
       "      <td>56.0</td>\n",
       "      <td>33.0</td>\n",
       "      <td>52.0</td>\n",
       "      <td>NaN</td>\n",
       "    </tr>\n",
       "    <tr>\n",
       "      <th>1960-01-05</th>\n",
       "      <td>0.0</td>\n",
       "      <td>52.0</td>\n",
       "      <td>35.0</td>\n",
       "      <td>52.0</td>\n",
       "      <td>NaN</td>\n",
       "    </tr>\n",
       "    <tr>\n",
       "      <th>...</th>\n",
       "      <td>...</td>\n",
       "      <td>...</td>\n",
       "      <td>...</td>\n",
       "      <td>...</td>\n",
       "      <td>...</td>\n",
       "    </tr>\n",
       "    <tr>\n",
       "      <th>2023-08-29</th>\n",
       "      <td>0.0</td>\n",
       "      <td>76.0</td>\n",
       "      <td>58.0</td>\n",
       "      <td>91.0</td>\n",
       "      <td>75.933333</td>\n",
       "    </tr>\n",
       "    <tr>\n",
       "      <th>2023-08-30</th>\n",
       "      <td>0.0</td>\n",
       "      <td>91.0</td>\n",
       "      <td>61.0</td>\n",
       "      <td>76.0</td>\n",
       "      <td>76.633333</td>\n",
       "    </tr>\n",
       "    <tr>\n",
       "      <th>2023-08-31</th>\n",
       "      <td>0.0</td>\n",
       "      <td>76.0</td>\n",
       "      <td>59.0</td>\n",
       "      <td>71.0</td>\n",
       "      <td>76.766667</td>\n",
       "    </tr>\n",
       "    <tr>\n",
       "      <th>2023-09-01</th>\n",
       "      <td>0.0</td>\n",
       "      <td>71.0</td>\n",
       "      <td>60.0</td>\n",
       "      <td>71.0</td>\n",
       "      <td>76.900000</td>\n",
       "    </tr>\n",
       "    <tr>\n",
       "      <th>2023-09-02</th>\n",
       "      <td>0.0</td>\n",
       "      <td>71.0</td>\n",
       "      <td>60.0</td>\n",
       "      <td>NaN</td>\n",
       "      <td>77.033333</td>\n",
       "    </tr>\n",
       "  </tbody>\n",
       "</table>\n",
       "<p>23256 rows × 5 columns</p>\n",
       "</div>"
      ],
      "text/plain": [
       "            precip  tempMax  tempMin  target   monthMax\n",
       "DATE                                                   \n",
       "1960-01-01     0.0     48.0     34.0    47.0        NaN\n",
       "1960-01-02     0.0     47.0     29.0    53.0        NaN\n",
       "1960-01-03     0.0     53.0     38.0    56.0        NaN\n",
       "1960-01-04     0.0     56.0     33.0    52.0        NaN\n",
       "1960-01-05     0.0     52.0     35.0    52.0        NaN\n",
       "...            ...      ...      ...     ...        ...\n",
       "2023-08-29     0.0     76.0     58.0    91.0  75.933333\n",
       "2023-08-30     0.0     91.0     61.0    76.0  76.633333\n",
       "2023-08-31     0.0     76.0     59.0    71.0  76.766667\n",
       "2023-09-01     0.0     71.0     60.0    71.0  76.900000\n",
       "2023-09-02     0.0     71.0     60.0     NaN  77.033333\n",
       "\n",
       "[23256 rows x 5 columns]"
      ]
     },
     "execution_count": 194,
     "metadata": {},
     "output_type": "execute_result"
    }
   ],
   "source": [
    "core"
   ]
  },
  {
   "cell_type": "code",
   "execution_count": 195,
   "id": "1cfcaea9-e824-462f-bc45-efc530e28376",
   "metadata": {
    "tags": []
   },
   "outputs": [],
   "source": [
    "core[\"monthDayMax\"] = core[\"monthMax\"] / core[\"tempMax\"] #difference between day's temp and avg month temp"
   ]
  },
  {
   "cell_type": "code",
   "execution_count": 196,
   "id": "194bad1a-898b-4224-a2f7-856a0e0bcd82",
   "metadata": {
    "tags": []
   },
   "outputs": [],
   "source": [
    "core[\"maxMin\"] = core[\"tempMax\"] / core[\"tempMin\"]"
   ]
  },
  {
   "cell_type": "code",
   "execution_count": 197,
   "id": "251f0ecc-7ef8-4726-bf76-814df35f0cfc",
   "metadata": {
    "tags": []
   },
   "outputs": [],
   "source": [
    "predictors = [\"precip\", \"tempMax\", \"tempMin\", \"monthMax\", \"monthDayMax\", \"maxMin\"]"
   ]
  },
  {
   "cell_type": "code",
   "execution_count": 202,
   "id": "7707209b-390e-4c5a-9776-89d2967ba1d8",
   "metadata": {
    "tags": []
   },
   "outputs": [],
   "source": [
    "# remove first 30 rows to make use of rolling mean \n",
    "core = core.dropna()"
   ]
  },
  {
   "cell_type": "code",
   "execution_count": 203,
   "id": "add7d2fe-4213-4d0f-8699-41c5e6157da7",
   "metadata": {
    "tags": []
   },
   "outputs": [],
   "source": [
    "mae, compare = predict(predictors, core, regr)"
   ]
  },
  {
   "cell_type": "code",
   "execution_count": 204,
   "id": "801f338f-e8b6-40ba-88bf-d1d3853bfda6",
   "metadata": {
    "tags": []
   },
   "outputs": [
    {
     "data": {
      "text/plain": [
       "3.325740837842358"
      ]
     },
     "execution_count": 204,
     "metadata": {},
     "output_type": "execute_result"
    }
   ],
   "source": [
    "mae"
   ]
  },
  {
   "cell_type": "code",
   "execution_count": 206,
   "id": "3fa586e5-263c-4e50-9834-d58573a590b6",
   "metadata": {
    "tags": []
   },
   "outputs": [
    {
     "data": {
      "text/plain": [
       "<Axes: xlabel='DATE'>"
      ]
     },
     "execution_count": 206,
     "metadata": {},
     "output_type": "execute_result"
    },
    {
     "data": {
      "image/png": "[encoded data removed]",
      "text/plain": [
       "<Figure size 640x480 with 1 Axes>"
      ]
     },
     "metadata": {},
     "output_type": "display_data"
    }
   ],
   "source": [
    "compare.plot()"
   ]
  },
  {
   "cell_type": "code",
   "execution_count": 211,
   "id": "11dc10c3-2919-49e2-ae53-49370c8a89bc",
   "metadata": {
    "tags": []
   },
   "outputs": [
    {
     "name": "stderr",
     "output_type": "stream",
     "text": [
      "/var/folders/n2/6b_ltvrd6r19c16kp8lwzg5c0000gn/T/ipykernel_27002/3116422800.py:1: FutureWarning: Not prepending group keys to the result index of transform-like apply. In the future, the group keys will be included in the index, regardless of whether the applied function returns a like-indexed object.\n",
      "To preserve the previous behavior, use\n",
      "\n",
      "\t>>> .groupby(..., group_keys=False)\n",
      "\n",
      "To adopt the future behavior and silence this warning, use \n",
      "\n",
      "\t>>> .groupby(..., group_keys=True)\n",
      "  core[\"monthlyAvg\"] = core[\"tempMax\"].groupby(core.index.month).apply(lambda x: x.expanding(1).mean())\n",
      "/var/folders/n2/6b_ltvrd6r19c16kp8lwzg5c0000gn/T/ipykernel_27002/3116422800.py:1: SettingWithCopyWarning: \n",
      "A value is trying to be set on a copy of a slice from a DataFrame.\n",
      "Try using .loc[row_indexer,col_indexer] = value instead\n",
      "\n",
      "See the caveats in the documentation: https://pandas.pydata.org/pandas-docs/stable/user_guide/indexing.html#returning-a-view-versus-a-copy\n",
      "  core[\"monthlyAvg\"] = core[\"tempMax\"].groupby(core.index.month).apply(lambda x: x.expanding(1).mean())\n"
     ]
    }
   ],
   "source": [
    "core[\"monthlyAvg\"] = core[\"tempMax\"].groupby(core.index.month).apply(lambda x: x.expanding(1).mean())"
   ]
  },
  {
   "cell_type": "code",
   "execution_count": 212,
   "id": "20150a2e-392b-4440-846e-6ccfba3b662d",
   "metadata": {
    "tags": []
   },
   "outputs": [
    {
     "data": {
      "text/html": [
       "<div>\n",
       "<style scoped>\n",
       "    .dataframe tbody tr th:only-of-type {\n",
       "        vertical-align: middle;\n",
       "    }\n",
       "\n",
       "    .dataframe tbody tr th {\n",
       "        vertical-align: top;\n",
       "    }\n",
       "\n",
       "    .dataframe thead th {\n",
       "        text-align: right;\n",
       "    }\n",
       "</style>\n",
       "<table border=\"1\" class=\"dataframe\">\n",
       "  <thead>\n",
       "    <tr style=\"text-align: right;\">\n",
       "      <th></th>\n",
       "      <th>precip</th>\n",
       "      <th>tempMax</th>\n",
       "      <th>tempMin</th>\n",
       "      <th>target</th>\n",
       "      <th>monthMax</th>\n",
       "      <th>monthDayMax</th>\n",
       "      <th>maxMin</th>\n",
       "      <th>monthlyAvg</th>\n",
       "    </tr>\n",
       "    <tr>\n",
       "      <th>DATE</th>\n",
       "      <th></th>\n",
       "      <th></th>\n",
       "      <th></th>\n",
       "      <th></th>\n",
       "      <th></th>\n",
       "      <th></th>\n",
       "      <th></th>\n",
       "      <th></th>\n",
       "    </tr>\n",
       "  </thead>\n",
       "  <tbody>\n",
       "    <tr>\n",
       "      <th>1960-03-01</th>\n",
       "      <td>0.00</td>\n",
       "      <td>54.0</td>\n",
       "      <td>45.0</td>\n",
       "      <td>56.0</td>\n",
       "      <td>58.666667</td>\n",
       "      <td>1.086420</td>\n",
       "      <td>1.200000</td>\n",
       "      <td>54.000000</td>\n",
       "    </tr>\n",
       "    <tr>\n",
       "      <th>1960-03-02</th>\n",
       "      <td>0.00</td>\n",
       "      <td>56.0</td>\n",
       "      <td>40.0</td>\n",
       "      <td>60.0</td>\n",
       "      <td>58.466667</td>\n",
       "      <td>1.044048</td>\n",
       "      <td>1.400000</td>\n",
       "      <td>55.000000</td>\n",
       "    </tr>\n",
       "    <tr>\n",
       "      <th>1960-03-03</th>\n",
       "      <td>0.00</td>\n",
       "      <td>60.0</td>\n",
       "      <td>46.0</td>\n",
       "      <td>62.0</td>\n",
       "      <td>58.500000</td>\n",
       "      <td>0.975000</td>\n",
       "      <td>1.304348</td>\n",
       "      <td>56.666667</td>\n",
       "    </tr>\n",
       "    <tr>\n",
       "      <th>1960-03-04</th>\n",
       "      <td>0.00</td>\n",
       "      <td>62.0</td>\n",
       "      <td>53.0</td>\n",
       "      <td>60.0</td>\n",
       "      <td>58.633333</td>\n",
       "      <td>0.945699</td>\n",
       "      <td>1.169811</td>\n",
       "      <td>58.000000</td>\n",
       "    </tr>\n",
       "    <tr>\n",
       "      <th>1960-03-05</th>\n",
       "      <td>0.03</td>\n",
       "      <td>60.0</td>\n",
       "      <td>54.0</td>\n",
       "      <td>60.0</td>\n",
       "      <td>58.700000</td>\n",
       "      <td>0.978333</td>\n",
       "      <td>1.111111</td>\n",
       "      <td>58.400000</td>\n",
       "    </tr>\n",
       "    <tr>\n",
       "      <th>...</th>\n",
       "      <td>...</td>\n",
       "      <td>...</td>\n",
       "      <td>...</td>\n",
       "      <td>...</td>\n",
       "      <td>...</td>\n",
       "      <td>...</td>\n",
       "      <td>...</td>\n",
       "      <td>...</td>\n",
       "    </tr>\n",
       "    <tr>\n",
       "      <th>2023-08-28</th>\n",
       "      <td>0.00</td>\n",
       "      <td>74.0</td>\n",
       "      <td>59.0</td>\n",
       "      <td>76.0</td>\n",
       "      <td>75.866667</td>\n",
       "      <td>1.025225</td>\n",
       "      <td>1.254237</td>\n",
       "      <td>72.586572</td>\n",
       "    </tr>\n",
       "    <tr>\n",
       "      <th>2023-08-29</th>\n",
       "      <td>0.00</td>\n",
       "      <td>76.0</td>\n",
       "      <td>58.0</td>\n",
       "      <td>91.0</td>\n",
       "      <td>75.933333</td>\n",
       "      <td>0.999123</td>\n",
       "      <td>1.310345</td>\n",
       "      <td>72.588295</td>\n",
       "    </tr>\n",
       "    <tr>\n",
       "      <th>2023-08-30</th>\n",
       "      <td>0.00</td>\n",
       "      <td>91.0</td>\n",
       "      <td>61.0</td>\n",
       "      <td>76.0</td>\n",
       "      <td>76.633333</td>\n",
       "      <td>0.842125</td>\n",
       "      <td>1.491803</td>\n",
       "      <td>72.597579</td>\n",
       "    </tr>\n",
       "    <tr>\n",
       "      <th>2023-08-31</th>\n",
       "      <td>0.00</td>\n",
       "      <td>76.0</td>\n",
       "      <td>59.0</td>\n",
       "      <td>71.0</td>\n",
       "      <td>76.766667</td>\n",
       "      <td>1.010088</td>\n",
       "      <td>1.288136</td>\n",
       "      <td>72.599294</td>\n",
       "    </tr>\n",
       "    <tr>\n",
       "      <th>2023-09-01</th>\n",
       "      <td>0.00</td>\n",
       "      <td>71.0</td>\n",
       "      <td>60.0</td>\n",
       "      <td>71.0</td>\n",
       "      <td>76.900000</td>\n",
       "      <td>1.083099</td>\n",
       "      <td>1.183333</td>\n",
       "      <td>73.773136</td>\n",
       "    </tr>\n",
       "  </tbody>\n",
       "</table>\n",
       "<p>23195 rows × 8 columns</p>\n",
       "</div>"
      ],
      "text/plain": [
       "            precip  tempMax  tempMin  target   monthMax  monthDayMax  \\\n",
       "DATE                                                                   \n",
       "1960-03-01    0.00     54.0     45.0    56.0  58.666667     1.086420   \n",
       "1960-03-02    0.00     56.0     40.0    60.0  58.466667     1.044048   \n",
       "1960-03-03    0.00     60.0     46.0    62.0  58.500000     0.975000   \n",
       "1960-03-04    0.00     62.0     53.0    60.0  58.633333     0.945699   \n",
       "1960-03-05    0.03     60.0     54.0    60.0  58.700000     0.978333   \n",
       "...            ...      ...      ...     ...        ...          ...   \n",
       "2023-08-28    0.00     74.0     59.0    76.0  75.866667     1.025225   \n",
       "2023-08-29    0.00     76.0     58.0    91.0  75.933333     0.999123   \n",
       "2023-08-30    0.00     91.0     61.0    76.0  76.633333     0.842125   \n",
       "2023-08-31    0.00     76.0     59.0    71.0  76.766667     1.010088   \n",
       "2023-09-01    0.00     71.0     60.0    71.0  76.900000     1.083099   \n",
       "\n",
       "              maxMin  monthlyAvg  \n",
       "DATE                              \n",
       "1960-03-01  1.200000   54.000000  \n",
       "1960-03-02  1.400000   55.000000  \n",
       "1960-03-03  1.304348   56.666667  \n",
       "1960-03-04  1.169811   58.000000  \n",
       "1960-03-05  1.111111   58.400000  \n",
       "...              ...         ...  \n",
       "2023-08-28  1.254237   72.586572  \n",
       "2023-08-29  1.310345   72.588295  \n",
       "2023-08-30  1.491803   72.597579  \n",
       "2023-08-31  1.288136   72.599294  \n",
       "2023-09-01  1.183333   73.773136  \n",
       "\n",
       "[23195 rows x 8 columns]"
      ]
     },
     "execution_count": 212,
     "metadata": {},
     "output_type": "execute_result"
    }
   ],
   "source": [
    "core"
   ]
  },
  {
   "cell_type": "code",
   "execution_count": 214,
   "id": "c2be6b21-ae67-46da-9114-b528cf7a2c3c",
   "metadata": {
    "tags": []
   },
   "outputs": [
    {
     "name": "stderr",
     "output_type": "stream",
     "text": [
      "/var/folders/n2/6b_ltvrd6r19c16kp8lwzg5c0000gn/T/ipykernel_27002/932330704.py:1: FutureWarning: Not prepending group keys to the result index of transform-like apply. In the future, the group keys will be included in the index, regardless of whether the applied function returns a like-indexed object.\n",
      "To preserve the previous behavior, use\n",
      "\n",
      "\t>>> .groupby(..., group_keys=False)\n",
      "\n",
      "To adopt the future behavior and silence this warning, use \n",
      "\n",
      "\t>>> .groupby(..., group_keys=True)\n",
      "  core[\"dayOfYearAvg\"] = core[\"tempMax\"].groupby(core.index.day_of_year).apply(lambda x: x.expanding(1).mean())\n",
      "/var/folders/n2/6b_ltvrd6r19c16kp8lwzg5c0000gn/T/ipykernel_27002/932330704.py:1: SettingWithCopyWarning: \n",
      "A value is trying to be set on a copy of a slice from a DataFrame.\n",
      "Try using .loc[row_indexer,col_indexer] = value instead\n",
      "\n",
      "See the caveats in the documentation: https://pandas.pydata.org/pandas-docs/stable/user_guide/indexing.html#returning-a-view-versus-a-copy\n",
      "  core[\"dayOfYearAvg\"] = core[\"tempMax\"].groupby(core.index.day_of_year).apply(lambda x: x.expanding(1).mean())\n"
     ]
    }
   ],
   "source": [
    "core[\"dayOfYearAvg\"] = core[\"tempMax\"].groupby(core.index.day_of_year).apply(lambda x: x.expanding(1).mean())"
   ]
  },
  {
   "cell_type": "code",
   "execution_count": 216,
   "id": "c002b05f-2508-4835-a067-3acb987dfdf9",
   "metadata": {
    "tags": []
   },
   "outputs": [],
   "source": [
    "predictors = [\"precip\", \"tempMax\", \"tempMin\", \"monthMax\", \"monthDayMax\", \"maxMin\", \"dayOfYearAvg\", \"monthlyAvg\"]"
   ]
  },
  {
   "cell_type": "code",
   "execution_count": 217,
   "id": "f0b3824d-a1d7-4639-b4b3-347386304bca",
   "metadata": {
    "tags": []
   },
   "outputs": [],
   "source": [
    "mae, compare = predict(predictors, core, regr)"
   ]
  },
  {
   "cell_type": "code",
   "execution_count": 218,
   "id": "707d35b1-c770-4be0-a95c-f96592805e9c",
   "metadata": {
    "tags": []
   },
   "outputs": [
    {
     "data": {
      "text/plain": [
       "3.311955205269983"
      ]
     },
     "execution_count": 218,
     "metadata": {},
     "output_type": "execute_result"
    }
   ],
   "source": [
    "mae"
   ]
  },
  {
   "cell_type": "code",
   "execution_count": 219,
   "id": "01b3bc0e-b968-4cb4-b111-4192624e4945",
   "metadata": {
    "tags": []
   },
   "outputs": [
    {
     "data": {
      "text/plain": [
       "array([-1.33921634,  0.46920777,  0.12673911,  0.15441762, -6.3659572 ,\n",
       "        2.11061062,  0.13071892,  0.13411121])"
      ]
     },
     "execution_count": 219,
     "metadata": {},
     "output_type": "execute_result"
    }
   ],
   "source": [
    "# model diagnostics\n",
    "regr.coef_"
   ]
  },
  {
   "cell_type": "code",
   "execution_count": 220,
   "id": "03d19b6a-ba5f-435b-b8ad-f9802bf59c02",
   "metadata": {
    "tags": []
   },
   "outputs": [],
   "source": [
    "# ratio between avg temp in last 30 days and today's temperature is particularly high\n"
   ]
  },
  {
   "cell_type": "code",
   "execution_count": 221,
   "id": "5b7dc923-e066-4836-814e-72c26d5fe580",
   "metadata": {
    "tags": []
   },
   "outputs": [
    {
     "data": {
      "text/plain": [
       "precip         -0.214007\n",
       "tempMax         0.816528\n",
       "tempMin         0.643949\n",
       "target          1.000000\n",
       "monthMax        0.691097\n",
       "monthDayMax    -0.411582\n",
       "maxMin          0.272038\n",
       "monthlyAvg      0.701456\n",
       "dayOfYearAvg    0.722153\n",
       "Name: target, dtype: float64"
      ]
     },
     "execution_count": 221,
     "metadata": {},
     "output_type": "execute_result"
    }
   ],
   "source": [
    "core.corr()[\"target\"]"
   ]
  },
  {
   "cell_type": "code",
   "execution_count": 230,
   "id": "7fd36005-0639-493b-90e4-bc7a2b33cca6",
   "metadata": {
    "tags": []
   },
   "outputs": [],
   "source": [
    "compare[\"diff\"] = (compare[\"target\"] - compare[\"prediction\"]).abs()"
   ]
  },
  {
   "cell_type": "code",
   "execution_count": 231,
   "id": "ec5a3229-4805-44bc-964f-35f70452bb10",
   "metadata": {
    "tags": []
   },
   "outputs": [
    {
     "data": {
      "text/html": [
       "<div>\n",
       "<style scoped>\n",
       "    .dataframe tbody tr th:only-of-type {\n",
       "        vertical-align: middle;\n",
       "    }\n",
       "\n",
       "    .dataframe tbody tr th {\n",
       "        vertical-align: top;\n",
       "    }\n",
       "\n",
       "    .dataframe thead th {\n",
       "        text-align: right;\n",
       "    }\n",
       "</style>\n",
       "<table border=\"1\" class=\"dataframe\">\n",
       "  <thead>\n",
       "    <tr style=\"text-align: right;\">\n",
       "      <th></th>\n",
       "      <th>target</th>\n",
       "      <th>prediction</th>\n",
       "      <th>diff</th>\n",
       "    </tr>\n",
       "    <tr>\n",
       "      <th>DATE</th>\n",
       "      <th></th>\n",
       "      <th></th>\n",
       "      <th></th>\n",
       "    </tr>\n",
       "  </thead>\n",
       "  <tbody>\n",
       "    <tr>\n",
       "      <th>2022-06-20</th>\n",
       "      <td>98.0</td>\n",
       "      <td>76.551698</td>\n",
       "      <td>21.448302</td>\n",
       "    </tr>\n",
       "    <tr>\n",
       "      <th>2022-05-23</th>\n",
       "      <td>87.0</td>\n",
       "      <td>68.532165</td>\n",
       "      <td>18.467835</td>\n",
       "    </tr>\n",
       "    <tr>\n",
       "      <th>2022-03-21</th>\n",
       "      <td>82.0</td>\n",
       "      <td>64.271501</td>\n",
       "      <td>17.728499</td>\n",
       "    </tr>\n",
       "    <tr>\n",
       "      <th>2022-04-05</th>\n",
       "      <td>83.0</td>\n",
       "      <td>66.093354</td>\n",
       "      <td>16.906646</td>\n",
       "    </tr>\n",
       "    <tr>\n",
       "      <th>2023-08-29</th>\n",
       "      <td>91.0</td>\n",
       "      <td>75.329618</td>\n",
       "      <td>15.670382</td>\n",
       "    </tr>\n",
       "  </tbody>\n",
       "</table>\n",
       "</div>"
      ],
      "text/plain": [
       "            target  prediction       diff\n",
       "DATE                                     \n",
       "2022-06-20    98.0   76.551698  21.448302\n",
       "2022-05-23    87.0   68.532165  18.467835\n",
       "2022-03-21    82.0   64.271501  17.728499\n",
       "2022-04-05    83.0   66.093354  16.906646\n",
       "2023-08-29    91.0   75.329618  15.670382"
      ]
     },
     "execution_count": 231,
     "metadata": {},
     "output_type": "execute_result"
    }
   ],
   "source": [
    "compare.sort_values(\"diff\", ascending=False).head()"
   ]
  },
  {
   "cell_type": "code",
   "execution_count": 232,
   "id": "45869567-bf63-4eb2-9944-6a8d3da098d3",
   "metadata": {
    "tags": []
   },
   "outputs": [
    {
     "data": {
      "text/html": [
       "<div>\n",
       "<style scoped>\n",
       "    .dataframe tbody tr th:only-of-type {\n",
       "        vertical-align: middle;\n",
       "    }\n",
       "\n",
       "    .dataframe tbody tr th {\n",
       "        vertical-align: top;\n",
       "    }\n",
       "\n",
       "    .dataframe thead th {\n",
       "        text-align: right;\n",
       "    }\n",
       "</style>\n",
       "<table border=\"1\" class=\"dataframe\">\n",
       "  <thead>\n",
       "    <tr style=\"text-align: right;\">\n",
       "      <th></th>\n",
       "      <th>target</th>\n",
       "      <th>prediction</th>\n",
       "      <th>diff</th>\n",
       "    </tr>\n",
       "    <tr>\n",
       "      <th>DATE</th>\n",
       "      <th></th>\n",
       "      <th></th>\n",
       "      <th></th>\n",
       "    </tr>\n",
       "  </thead>\n",
       "  <tbody>\n",
       "    <tr>\n",
       "      <th>2023-08-10</th>\n",
       "      <td>78.0</td>\n",
       "      <td>78.027510</td>\n",
       "      <td>0.027510</td>\n",
       "    </tr>\n",
       "    <tr>\n",
       "      <th>2022-10-11</th>\n",
       "      <td>68.0</td>\n",
       "      <td>67.969823</td>\n",
       "      <td>0.030177</td>\n",
       "    </tr>\n",
       "    <tr>\n",
       "      <th>2022-09-19</th>\n",
       "      <td>74.0</td>\n",
       "      <td>73.960521</td>\n",
       "      <td>0.039479</td>\n",
       "    </tr>\n",
       "    <tr>\n",
       "      <th>2023-01-09</th>\n",
       "      <td>59.0</td>\n",
       "      <td>59.046604</td>\n",
       "      <td>0.046604</td>\n",
       "    </tr>\n",
       "    <tr>\n",
       "      <th>2022-06-01</th>\n",
       "      <td>71.0</td>\n",
       "      <td>71.077646</td>\n",
       "      <td>0.077646</td>\n",
       "    </tr>\n",
       "  </tbody>\n",
       "</table>\n",
       "</div>"
      ],
      "text/plain": [
       "            target  prediction      diff\n",
       "DATE                                    \n",
       "2023-08-10    78.0   78.027510  0.027510\n",
       "2022-10-11    68.0   67.969823  0.030177\n",
       "2022-09-19    74.0   73.960521  0.039479\n",
       "2023-01-09    59.0   59.046604  0.046604\n",
       "2022-06-01    71.0   71.077646  0.077646"
      ]
     },
     "execution_count": 232,
     "metadata": {},
     "output_type": "execute_result"
    }
   ],
   "source": [
    "compare.sort_values(\"diff\", ascending=True).head()"
   ]
  },
  {
   "cell_type": "code",
   "execution_count": 233,
   "id": "0ca95855-c420-4faa-85f4-4f9eef1ed3f5",
   "metadata": {
    "tags": []
   },
   "outputs": [
    {
     "data": {
      "text/plain": [
       "<bound method DataFrame.diff of             target  prediction       diff\n",
       "DATE                                     \n",
       "2022-01-01    53.0   53.496072   0.496072\n",
       "2022-01-02    55.0   53.874982   1.125018\n",
       "2022-01-03    59.0   55.574915   3.425085\n",
       "2022-01-04    58.0   58.520613   0.520613\n",
       "2022-01-05    55.0   58.159918   3.159918\n",
       "...            ...         ...        ...\n",
       "2023-08-28    76.0   74.318825   1.681175\n",
       "2023-08-29    91.0   75.329618  15.670382\n",
       "2023-08-30    76.0   84.219297   8.219297\n",
       "2023-08-31    71.0   75.437157   4.437157\n",
       "2023-09-01    71.0   72.738486   1.738486\n",
       "\n",
       "[609 rows x 3 columns]>"
      ]
     },
     "execution_count": 233,
     "metadata": {},
     "output_type": "execute_result"
    }
   ],
   "source": [
    "compare.diff"
   ]
  }
 ],
 "metadata": {
  "kernelspec": {
   "display_name": "Python 3 (ipykernel)",
   "language": "python",
   "name": "python3"
  },
  "language_info": {
   "codemirror_mode": {
    "name": "ipython",
    "version": 3
   },
   "file_extension": ".py",
   "mimetype": "text/x-python",
   "name": "python",
   "nbconvert_exporter": "python",
   "pygments_lexer": "ipython3",
   "version": "3.11.3"
  }
 },
 "nbformat": 4,
 "nbformat_minor": 5
}
